{
 "cells": [
  {
   "cell_type": "code",
   "execution_count": 1,
   "metadata": {
    "collapsed": true
   },
   "outputs": [],
   "source": [
    "# Copyright 2016-present, Facebook, Inc.\n",
    "# All rights reserved.\n",
    "\n",
    "# This source code is licensed under the license found in the\n",
    "# LICENSE-examples file in the root directory of this source tree."
   ]
  },
  {
   "cell_type": "markdown",
   "metadata": {},
   "source": [
    "# Intro to Sampling\n",
    "\n",
    "The question we will ask is: **Given a population, what percent of the population is a positive example?**\n",
    "\n",
    "*This assumes that we don't know if something is positive or negative in advice!* If we know the answer to this up front or it is easily understood then there is no point in sampling. We have to take the sample because we are interested in identifying some attribute but the evaluation is expensive.\n",
    "\n",
    "First we will demonstrate how this code can be used to take a normal random sample.\n",
    "\n",
    "Then, we will study our question when the importance weight of each record is different:\n",
    "1. Using regular random sampling\n",
    "1. Using importance weighted sampling\n",
    "1. Using full model assisted sampling"
   ]
  },
  {
   "cell_type": "code",
   "execution_count": 2,
   "metadata": {
    "collapsed": false
   },
   "outputs": [],
   "source": [
    "import ml_sampler\n",
    "import numpy as np"
   ]
  },
  {
   "cell_type": "markdown",
   "metadata": {},
   "source": [
    "## The population"
   ]
  },
  {
   "cell_type": "code",
   "execution_count": 3,
   "metadata": {
    "collapsed": false
   },
   "outputs": [],
   "source": [
    "population_size = 1000000\n",
    "\n",
    "# 1.0% of the population is a 'positive' example\n",
    "is_positive = np.random.random(population_size) < 0.01\n",
    "\n",
    "# Note: predetermining 'is_positive' is necessary for \n",
    "# the purposes of this example.\n",
    "# In a real application we would have to sample - then determine\n",
    "# if the record is positive or not. "
   ]
  },
  {
   "cell_type": "code",
   "execution_count": 5,
   "metadata": {
    "collapsed": false
   },
   "outputs": [
    {
     "name": "stdout",
     "output_type": "stream",
     "text": [
      "Prevalence 1.0036\n"
     ]
    }
   ],
   "source": [
    "print 'Prevalence', is_positive.sum() * 100.0 / len(is_positive) "
   ]
  },
  {
   "cell_type": "markdown",
   "metadata": {},
   "source": [
    "## Simple random sampling using ml_sampler"
   ]
  },
  {
   "cell_type": "code",
   "execution_count": 10,
   "metadata": {
    "collapsed": false
   },
   "outputs": [
    {
     "name": "stdout",
     "output_type": "stream",
     "text": [
      "Est. Positive Percent 0.85\n"
     ]
    }
   ],
   "source": [
    "random_weights = np.ones(population_size)\n",
    "random_biases = np.ones(population_size)\n",
    "\n",
    "random_index, random_p_sample = ml_sampler.biased_sample(\n",
    "    biases=random_biases, # same bias for each record (no bias)\n",
    "    weights=random_weights, # weight each record equally\n",
    "    num_samples=2000\n",
    ")\n",
    "\n",
    "\n",
    "est_pos_volume = ml_sampler.estimator(\n",
    "    random_weights[random_index], \n",
    "    random_p_sample, \n",
    "    is_positive[random_index],\n",
    ")\n",
    "\n",
    "print 'Est. Positive Percent', est_pos_volume * 100.0 / len(is_positive)"
   ]
  },
  {
   "cell_type": "markdown",
   "metadata": {},
   "source": [
    "## Sampling with importance weights!"
   ]
  },
  {
   "cell_type": "code",
   "execution_count": 11,
   "metadata": {
    "collapsed": true
   },
   "outputs": [],
   "source": [
    "# assign different weights to each record. \n",
    "# for example, if we cared about the overall prevalence of spam - \n",
    "#    this could represent number of times a piece of potential spam was seen  \n",
    "importance_weights = np.random.exponential(scale=100, size=population_size)"
   ]
  },
  {
   "cell_type": "code",
   "execution_count": 12,
   "metadata": {
    "collapsed": false
   },
   "outputs": [
    {
     "name": "stdout",
     "output_type": "stream",
     "text": [
      "Weighted Prevalence 0.993855046356\n"
     ]
    }
   ],
   "source": [
    "weighted_pos_volume = importance_weights[is_positive].sum()\n",
    "\n",
    "print 'Weighted Prevalence', weighted_pos_volume * 100.0 / importance_weights.sum()"
   ]
  },
  {
   "cell_type": "markdown",
   "metadata": {},
   "source": [
    "### Random Sampling"
   ]
  },
  {
   "cell_type": "code",
   "execution_count": 13,
   "metadata": {
    "collapsed": false
   },
   "outputs": [
    {
     "name": "stdout",
     "output_type": "stream",
     "text": [
      "Est. Weighted Prevalence 0.761555654195\n"
     ]
    }
   ],
   "source": [
    "# do regular random sampling then sum the importance weights at the end\n",
    "# this is similar to the above example but now we have to account for importance\n",
    "\n",
    "random_sample_index, random_sample_p_sample = ml_sampler.biased_sample(\n",
    "    # same bias for each record\n",
    "    biases=np.ones(population_size), \n",
    "    weights=np.ones(population_size),\n",
    "    num_samples=2000\n",
    ")\n",
    "\n",
    "# represents the size of each record, we didn't account for this in the sampling process\n",
    "random_sample_weight = importance_weights[random_sample_index]\n",
    "random_sample_is_positive = is_positive[random_index]\n",
    "\n",
    "est_pos_volume = ml_sampler.estimator(\n",
    "    random_sample_weight, \n",
    "    random_sample_p_sample, \n",
    "    random_sample_is_positive,\n",
    ")\n",
    "\n",
    "print 'Est. Weighted Prevalence', est_pos_volume * 100.0 / importance_weights.sum()"
   ]
  },
  {
   "cell_type": "markdown",
   "metadata": {},
   "source": [
    "### Probability Proportionate to Size (PPS) Sampling / Weighted sampling"
   ]
  },
  {
   "cell_type": "code",
   "execution_count": 14,
   "metadata": {
    "collapsed": false
   },
   "outputs": [
    {
     "name": "stdout",
     "output_type": "stream",
     "text": [
      "Est. Weighted Prevalence 1.2\n"
     ]
    }
   ],
   "source": [
    "pps_index, pps_p_sample = ml_sampler.biased_sample(\n",
    "    # same bias for each record\n",
    "    biases=np.ones(population_size), \n",
    "    # now we sample with our importance weights\n",
    "    weights=importance_weights,\n",
    "    num_samples=2000\n",
    ")\n",
    "\n",
    "pps_weights = importance_weights[pps_index]\n",
    "pps_is_positive = is_positive[pps_index]\n",
    "\n",
    "est_pos_volume = ml_sampler.estimator(\n",
    "    pps_weights, \n",
    "    pps_p_sample,\n",
    "    pps_is_positive,\n",
    ")\n",
    "\n",
    "print 'Est. Weighted Prevalence', est_pos_volume * 100.0 / importance_weights.sum()"
   ]
  },
  {
   "cell_type": "markdown",
   "metadata": {},
   "source": [
    "## Cool story. \n",
    "\n",
    "But why should you care about PPS Sampling vs the Regular sampling? \n",
    "\n",
    "Well, it turns out that these two methods are NOT equal. The PPS sampling method is generally better because it produces a more accurate estimate - the error of the samples taken is less.\n",
    "\n",
    "Lets do some simulations to prove this out!"
   ]
  },
  {
   "cell_type": "code",
   "execution_count": 15,
   "metadata": {
    "collapsed": false
   },
   "outputs": [],
   "source": [
    "random_prevalence = []\n",
    "for _ in range(3000):\n",
    "    random_sample_index, random_sample_p_sample = ml_sampler.biased_sample(\n",
    "        # same bias for each record\n",
    "        biases=np.ones(population_size), \n",
    "        weights=np.ones(population_size),\n",
    "        num_samples=2000\n",
    "    )\n",
    "\n",
    "    # represents the size of each record, we didn't account for this in the sampling process\n",
    "    random_sample_weight = importance_weights[random_sample_index]\n",
    "    random_sample_is_positive = is_positive[random_sample_index]\n",
    "\n",
    "    est_pos_volume = ml_sampler.estimator(\n",
    "        random_sample_weight, \n",
    "        random_sample_p_sample, \n",
    "        random_sample_is_positive,\n",
    "    )\n",
    "    \n",
    "    prevalence = est_pos_volume * 100.0 / importance_weights.sum()\n",
    "    \n",
    "    random_prevalence.append(prevalence)"
   ]
  },
  {
   "cell_type": "code",
   "execution_count": 16,
   "metadata": {
    "collapsed": false
   },
   "outputs": [],
   "source": [
    "pps_prevalence = []\n",
    "for _ in range(3000):\n",
    "    pps_index, pps_p_sample = ml_sampler.biased_sample(\n",
    "        # same bias for each record\n",
    "        biases=np.ones(population_size), \n",
    "        # now we sample with our importance weights\n",
    "        weights=importance_weights,\n",
    "        num_samples=2000\n",
    "    )\n",
    "\n",
    "    pps_weights = importance_weights[pps_index]\n",
    "    pps_is_positive = is_positive[pps_index]\n",
    "\n",
    "    est_pos_volume = ml_sampler.estimator(\n",
    "        pps_weights, \n",
    "        pps_p_sample,\n",
    "        pps_is_positive,\n",
    "    )\n",
    "    \n",
    "    prevalence = est_pos_volume * 100.0 / importance_weights.sum()\n",
    "    \n",
    "    pps_prevalence.append(prevalence)"
   ]
  },
  {
   "cell_type": "code",
   "execution_count": 17,
   "metadata": {
    "collapsed": false
   },
   "outputs": [
    {
     "name": "stdout",
     "output_type": "stream",
     "text": [
      "Random estimate of weighted prevalence 0.96\n",
      "\t95% confidence interval (0.46, 1.68)\n",
      "\n",
      "PPS estimate of weighted prevalence 1.00\n",
      "\t95% confidence interval (0.60, 1.45)\n"
     ]
    }
   ],
   "source": [
    "print 'Random estimate of weighted prevalence {0:0.2f}'.format(np.percentile(random_prevalence, 50))\n",
    "print '\\t95% confidence interval ({0:0.2f}, {1:0.2f})'.format(*np.percentile(random_prevalence, [2.5, 97.5]))\n",
    "print\n",
    "print 'PPS estimate of weighted prevalence {0:0.2f}'.format(np.percentile(pps_prevalence, 50))\n",
    "print '\\t95% confidence interval ({0:0.2f}, {1:0.2f})'.format(*np.percentile(pps_prevalence, [2.5, 97.5]))"
   ]
  },
  {
   "cell_type": "markdown",
   "metadata": {},
   "source": [
    "Ahhh! So we see that the importance estimate typically produces narrower confidence intervals. \n",
    "\n",
    "**Question?** Can we do any better than this?\n",
    "\n",
    "**Answer?** Well, it depends. With importance sampling we were able to take into account the additional information we had about the importance values up front. What if we also had some approximate information about the chances of something being positive? We should be able to use that information too. "
   ]
  },
  {
   "cell_type": "markdown",
   "metadata": {},
   "source": [
    "### Model Assisted Sampling\n",
    "Lets say that we have some additional information for each record. For example, suppose we know up front the probability that a record will be positive (but not specifically if it IS positive). We can use this information to our advantage. \n",
    "\n",
    "In practice we may build a machine learning model that produces scores for each record (does not actually have to be a true probability). We can use this new information to our advantage!"
   ]
  },
  {
   "cell_type": "code",
   "execution_count": 18,
   "metadata": {
    "collapsed": true
   },
   "outputs": [],
   "source": [
    "# create some scores for each record where the score is correlated\n",
    "# with is_positive - this is a stand in for a real ML model\n",
    "scores = np.zeros(population_size)\n",
    "scores[is_positive] = np.random.normal(loc=2.9, scale=0.3,\n",
    "                                       size=is_positive.sum())\n",
    "\n",
    "scores[~is_positive] = np.random.normal(loc=0.8, scale=1.0,\n",
    "                                        size=(~is_positive).sum())\n",
    "scores -= scores.min() \n",
    "scores += 0.0001"
   ]
  },
  {
   "cell_type": "code",
   "execution_count": 19,
   "metadata": {
    "collapsed": false
   },
   "outputs": [
    {
     "data": {
      "text/plain": [
       "<matplotlib.text.Text at 0x7faaf6bf39d0>"
      ]
     },
     "execution_count": 19,
     "metadata": {},
     "output_type": "execute_result"
    },
    {
     "data": {
      "image/png": "[encoded data removed]",
      "text/plain": [
       "<matplotlib.figure.Figure at 0x7faaf74e0450>"
      ]
     },
     "metadata": {},
     "output_type": "display_data"
    }
   ],
   "source": [
    "scores_df = pd.DataFrame({'scores': scores, 'is_positive': is_positive})\n",
    "\n",
    "bins = np.linspace(scores.min(), scores.max(), 20)\n",
    "\n",
    "ax = scores_df[~scores_df.is_positive].scores.hist(label='Negative', alpha=0.5, bins=bins, color='yellow')\n",
    "scores_df[scores_df.is_positive].scores.hist(ax=ax, label='Positive', alpha=1.0, bins=bins)\n",
    "\n",
    "plt.legend()\n",
    "plt.title('Histogram of positive\\nand negative example scores')"
   ]
  },
  {
   "cell_type": "code",
   "execution_count": 20,
   "metadata": {
    "collapsed": false
   },
   "outputs": [],
   "source": [
    "ml_index, ml_p_sample = ml_sampler.biased_sample(\n",
    "\n",
    "    # Bias the sample towards according to scores. This method will\n",
    "    # over sample things with higher scores but those\n",
    "    # samples will be weighted less.\n",
    "    # Example:\n",
    "    #     scores[1] == 10\n",
    "    #     scores[2] == 1\n",
    "    #   All else being equal:\n",
    "    #    record[1] should be sampled 10x more frequently than record[2]\n",
    "    #    record[1] will count for 1/10th the weight of record[2]\n",
    "    biases=scores, \n",
    "    \n",
    "    weights=importance_weights, \n",
    "    num_samples=2000\n",
    ")"
   ]
  },
  {
   "cell_type": "code",
   "execution_count": 21,
   "metadata": {
    "collapsed": false
   },
   "outputs": [
    {
     "name": "stdout",
     "output_type": "stream",
     "text": [
      "Est. Weighted Prevalence 0.922674719857\n",
      "Percent of Positive Samples Taken 1.3\n"
     ]
    }
   ],
   "source": [
    "ml_is_positive = is_positive[ml_index]\n",
    "ml_weights = importance_weights[ml_index]\n",
    "\n",
    "est_pos_volume = ml_sampler.estimator(\n",
    "    ml_weights, \n",
    "    ml_p_sample,\n",
    "    ml_is_positive,\n",
    ")\n",
    "\n",
    "print 'Est. Weighted Prevalence', est_pos_volume * 100.0 / importance_weights.sum()\n",
    "\n",
    "# We get ~50% more positive samples with ml_sampler\n",
    "print 'Percent of Positive Samples Taken', ml_is_positive.mean() * 100.0"
   ]
  },
  {
   "cell_type": "code",
   "execution_count": 22,
   "metadata": {
    "collapsed": false
   },
   "outputs": [],
   "source": [
    "ml_prevalence = []\n",
    "\n",
    "for _ in range(3000):\n",
    "    ml_index, ml_p_sample = ml_sampler.biased_sample(\n",
    "        biases=scores,  \n",
    "        weights=importance_weights,         \n",
    "        num_samples=2000\n",
    "    )\n",
    "    \n",
    "    ml_is_positive = is_positive[ml_index]\n",
    "    ml_weights = importance_weights[ml_index]\n",
    "\n",
    "    est_pos_volume = ml_sampler.estimator(\n",
    "        ml_weights, \n",
    "        ml_p_sample,\n",
    "        ml_is_positive,\n",
    "    )\n",
    "    \n",
    "    prevalence = est_pos_volume * 100.0 / importance_weights.sum()\n",
    "    \n",
    "    ml_prevalence.append(prevalence)"
   ]
  },
  {
   "cell_type": "code",
   "execution_count": 24,
   "metadata": {
    "collapsed": false
   },
   "outputs": [
    {
     "name": "stdout",
     "output_type": "stream",
     "text": [
      "Random estimate of prevalence 0.96\n",
      "\t95% confidence interval (0.46, 1.68)\n",
      "\n",
      "PPS estimate of prevalence 1.00\n",
      "\t95% confidence interval (0.60, 1.45)\n",
      "\n",
      "ML estimate of prevalence 0.98\n",
      "\t95% confidence interval (0.66, 1.36)\n",
      "\n"
     ]
    }
   ],
   "source": [
    "print 'Random estimate of prevalence {0:0.2f}'.format(np.percentile(random_prevalence, 50))\n",
    "print '\\t95% confidence interval ({0:0.2f}, {1:0.2f})'.format(*np.percentile(random_prevalence, [2.5, 97.5]))\n",
    "print\n",
    "\n",
    "print 'PPS estimate of prevalence {0:0.2f}'.format(np.percentile(pps_prevalence, 50))\n",
    "print '\\t95% confidence interval ({0:0.2f}, {1:0.2f})'.format(*np.percentile(pps_prevalence, [2.5, 97.5]))\n",
    "print\n",
    "\n",
    "print 'ML estimate of prevalence {0:0.2f}'.format(np.percentile(ml_prevalence, 50))\n",
    "print '\\t95% confidence interval ({0:0.2f}, {1:0.2f})'.format(*np.percentile(ml_prevalence, [2.5, 97.5]))\n",
    "print\n"
   ]
  },
  {
   "cell_type": "markdown",
   "metadata": {},
   "source": [
    "### Analysis\n",
    "Random, Importance, and ML all produce reasonable estimations of the true prevalence. In this example - ML Assisted  has the tightest confidence interval and is more accurate than the other methods. Additionally, ML Assisted gives us ~50% more positive samples."
   ]
  }
 ],
 "metadata": {
  "anaconda-cloud": {},
  "kernelspec": {
   "display_name": "Python [default]",
   "language": "python",
   "name": "python2"
  },
  "language_info": {
   "codemirror_mode": {
    "name": "ipython",
    "version": 2
   },
   "file_extension": ".py",
   "mimetype": "text/x-python",
   "name": "python",
   "nbconvert_exporter": "python",
   "pygments_lexer": "ipython2",
   "version": "2.7.12"
  }
 },
 "nbformat": 4,
 "nbformat_minor": 0
}
